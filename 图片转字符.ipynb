{
 "cells": [
  {
   "cell_type": "code",
   "execution_count": 1,
   "metadata": {},
   "outputs": [
    {
     "name": "stdout",
     "output_type": "stream",
     "text": [
      "Image导入信息 <module 'PIL.Image' from 'C:\\\\Anaconda3\\\\lib\\\\site-packages\\\\PIL\\\\Image.py'> <class 'module'>\n",
      "(317, 296)\n",
      "(317, 296)\n",
      "转换成功\n"
     ]
    }
   ],
   "source": [
    "# 实现：把一张图片转换成字符串组成的额图像文本\n",
    "\n",
    "# 图片:获取图片的像素点的数量和rgba的值，并且怎么计算灰色 pillow.Image.py\n",
    "\n",
    "# 脚本\n",
    "\n",
    "# 原理：图片由像素点，300x300=90000个像素，每一像素（rgb,a）\n",
    "#      字符组成 300x300 文本：颜色、黑和白，大，小\n",
    "#      字符怎么判断像素颜色分布，灰色过度：0～256\n",
    "\n",
    "from PIL import Image\n",
    "print(\"Image导入信息\",Image,type(Image))\n",
    "\n",
    "imgPath = \"1.jpg\"\n",
    "# list() 把字符串类型转换成列表类型\n",
    "char_list = list(\"$@B%8&WM#*oahkbdpqwmZO0QLCJUYXzcvunxrjft/\\|()1{}[]?-_+~<>i!lI;:,\\\"^`'.\")\n",
    "charPic = \"\" # 保存像素获取到的字符的\n",
    "\n",
    "# 1.获取图片\n",
    "def openImg():\n",
    "    # 1.1 打开图片\n",
    "    img = Image.open(imgPath)\n",
    "    # 1.2 压缩图片分辨率和品质 1.宽度和高度  2.品质：低分辨率\n",
    "    img = img.resize((int(img.size[0]),int(img.size[1])),Image.NEAREST)\n",
    "    print(img.size)\n",
    "    # 1.3 返回图片\n",
    "    return img\n",
    "\n",
    "# 2.获取像素值\n",
    "def getPixel(img):\n",
    "    global charPic\n",
    "    \n",
    "    print(img.size)\n",
    "    # 2.1 通过循环获取坐标点 x,y\n",
    "    for y in range(0,img.size[1]):\n",
    "        for x in range(0,img.size[0]):\n",
    "            # 2.2 获取图片的像素\n",
    "            pixel = img.getpixel((x,y))\n",
    "            # 2.3 解包操作\n",
    "            charPic+=countGray(*pixel)\n",
    "        # 2.4 在x轴结束跨行\n",
    "        charPic+=\"\\n\"\n",
    "        \n",
    "    # print(charPic)\n",
    "    \n",
    "# 3.计算灰色素\n",
    "def countGray(r,g,b,a=256):\n",
    "    # 3.1 判断不能透明\n",
    "    if a == 0:\n",
    "        return \" \"\n",
    "    # 3.2 计算灰色\n",
    "    gray = int(0.2126*r+0.7152*g+0.0722*b)\n",
    "    # 3.3 计算下标位置\n",
    "    #     256/len(char_list) = 灰色：字符的比例\n",
    "    #     gray / 比例 = 下标值\n",
    "    char = char_list[int(gray/(256/len(char_list)))]\n",
    "    return char\n",
    "\n",
    "# 4.保存\n",
    "def saveTxt():\n",
    "    # 4.1 open 创建、打开文件\n",
    "    file = open(\"转换的字符画.txt\",\"w\",encoding=\"utf-8\")\n",
    "    file.write(charPic) # 写入数据\n",
    "    file.flush() # 清缓存\n",
    "    file.close() # 关闭\n",
    "    print(\"转换成功\")\n",
    "\n",
    "# 5.调用\n",
    "getPixel(openImg())\n",
    "saveTxt()\n"
   ]
  },
  {
   "cell_type": "code",
   "execution_count": null,
   "metadata": {},
   "outputs": [],
   "source": []
  }
 ],
 "metadata": {
  "kernelspec": {
   "display_name": "Python 3",
   "language": "python",
   "name": "python3"
  },
  "language_info": {
   "codemirror_mode": {
    "name": "ipython",
    "version": 3
   },
   "file_extension": ".py",
   "mimetype": "text/x-python",
   "name": "python",
   "nbconvert_exporter": "python",
   "pygments_lexer": "ipython3",
   "version": "3.6.5"
  },
  "toc": {
   "base_numbering": 1,
   "nav_menu": {},
   "number_sections": true,
   "sideBar": true,
   "skip_h1_title": false,
   "title_cell": "Table of Contents",
   "title_sidebar": "Contents",
   "toc_cell": false,
   "toc_position": {},
   "toc_section_display": true,
   "toc_window_display": false
  }
 },
 "nbformat": 4,
 "nbformat_minor": 2
}
