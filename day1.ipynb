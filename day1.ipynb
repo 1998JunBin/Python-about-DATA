{
 "cells": [
  {
   "cell_type": "code",
   "execution_count": 10,
   "metadata": {},
   "outputs": [
    {
     "name": "stdout",
     "output_type": "stream",
     "text": [
      "<class 'int'> <class 'float'> <class 'str'> <class 'list'> <class 'tuple'> <class 'dict'>\n"
     ]
    }
   ],
   "source": [
    "a = 1\n",
    "b = 0.1\n",
    "c = \"爱看球的老黄\"\n",
    "list1 = [a,b,c]\n",
    "tup1 = (a,b,c,list1)\n",
    "dict1 = {\"name\":\"爱看球的老黄\",\"age\":21}\n",
    "print(type(a),type(b),type(c),type(list1),type(tup1),type(dict1))"
   ]
  },
  {
   "cell_type": "code",
   "execution_count": 23,
   "metadata": {},
   "outputs": [
    {
     "name": "stdout",
     "output_type": "stream",
     "text": [
      "爱 黄\n",
      "爱看球的老黄\n",
      "爱\n",
      "爱看球的老\n",
      "爱看球的老黄\n",
      "爱看球的老黄吗？\n",
      "爱看球的老黄 爱看球的老黄 爱看球的老黄 爱看球的老黄 爱看球的老黄 爱看球的老黄 爱看球的老黄 爱看球的老黄 爱看球的老黄 爱看球的老黄 \n"
     ]
    }
   ],
   "source": [
    "#对字符串的操作\n",
    "#1、索引访问和整体访问\n",
    "print(c[0],c[5]) #索引访问从0开始\n",
    "print(c)\n",
    "\n",
    "#2、切片访问（注意它是开区间，左闭右开）\n",
    "print(c[0:1]) #左闭右开\n",
    "print(c[:5]) #默认开始到结束\n",
    "print(c[0:]) #开始到默认结束\n",
    "\n",
    "#3、字符拼接，用+号\n",
    "print(c+\"吗？\")\n",
    "\n",
    "#4、字符重复,用*号\n",
    "print((c+' ')*10)"
   ]
  },
  {
   "cell_type": "code",
   "execution_count": 40,
   "metadata": {},
   "outputs": [
    {
     "name": "stdout",
     "output_type": "stream",
     "text": [
      "0.01 0.01\n",
      "[0.01, 0.01, 0.01, 0.01, 0.01, 0.01, '哈喽老黄', '哈喽老黄', '哈喽老黄', '哈喽老黄', '哈喽老黄', '哈喽老黄']\n",
      "[0.01]\n",
      "[0.01, 0.01]\n",
      "[0.01, 0.01, 0.01, 0.01, 0.01, 0.01, '哈喽老黄', '哈喽老黄', '哈喽老黄', '哈喽老黄', '哈喽老黄', '哈喽老黄']\n",
      "[0.01, 0.01, 0.01, 0.01, 0.01, 0.01, '哈喽老黄', '哈喽老黄', '哈喽老黄', '哈喽老黄', '哈喽老黄', '哈喽老黄', '吗？']\n",
      "[0.01, 0.01, 0.01, 0.01, 0.01, 0.01, '哈喽老黄', '哈喽老黄', '哈喽老黄', '哈喽老黄', '哈喽老黄', '哈喽老黄', 0.01, 0.01, 0.01, 0.01, 0.01, 0.01, '哈喽老黄', '哈喽老黄', '哈喽老黄', '哈喽老黄', '哈喽老黄', '哈喽老黄']\n",
      "[0.01, 0.01, 0.01, 0.01, 0.01, 0.01, '哈喽老黄', '哈喽老黄', '哈喽老黄', '哈喽老黄', '哈喽老黄', '哈喽老黄', '哈喽老黄']\n",
      "[0.01, 0.01, 0.01, 0.01, 0.01, 0.01, 0.01, '哈喽老黄', '哈喽老黄', '哈喽老黄', '哈喽老黄', '哈喽老黄', '哈喽老黄', '哈喽老黄']\n",
      "[0.01, 0.01, 0.01, 0.01, 0.01, 0.01, 0.01, '哈喽老黄', '哈喽老黄', '哈喽老黄', '哈喽老黄', '哈喽老黄', '哈喽老黄']\n",
      "0.01\n",
      "[1, 2, 3, 4, 5]\n",
      "[5, 4, 3, 2, 1]\n"
     ]
    }
   ],
   "source": [
    "#对列表的操作：增删改查\n",
    "#1、查询操作跟字符串的访问操作一样\n",
    "#1.1、索引访问和整体访问\n",
    "print(list1[0],list1[2]) #索引访问从0开始\n",
    "print(list1)\n",
    "\n",
    "#1.2切片访问（注意它是开区间，左闭右开）\n",
    "print(list1[0:1]) #左闭右开\n",
    "print(list1[:2]) #默认开始到结束\n",
    "print(list1[0:]) #开始到默认结束\n",
    "\n",
    "#1.3列表的拼接(用+号加上一个另一个列表)和重复(重复用*号)\n",
    "print(list1+[\"吗？\"])\n",
    "print(list1*2)\n",
    "\n",
    "#2、列表元素的增加\n",
    "#2.1 尾部添加\n",
    "list1.append(\"哈喽老黄\")\n",
    "print(list1)\n",
    "#2.2指定位置添加\n",
    "list1.insert(1,0.01) #insert()的第一个参数是要添加的元素在列表中的位置\n",
    "print(list1)\n",
    "\n",
    "#3、删除操作\n",
    "#3.1直接删除操作（remove里面的参数是列表里面的元素）\n",
    "list1.remove(\"哈喽老黄\")\n",
    "print(list1)\n",
    "#3.2删除列表中给定位置元素并返回它，若没给定位置，则会删除并返回最后一个元素\n",
    "pop = list1.pop(6)\n",
    "print(pop)\n",
    "\n",
    "#4、排序操作\n",
    "#4.1 sort排序\n",
    "list2=[5,4,3,2,1]\n",
    "list2.sort()\n",
    "print(list2)\n",
    "#4.2 反转操作,reverse\n",
    "list2.reverse()\n",
    "print(list2)\n",
    "\n"
   ]
  },
  {
   "cell_type": "code",
   "execution_count": 46,
   "metadata": {},
   "outputs": [
    {
     "name": "stdout",
     "output_type": "stream",
     "text": [
      "(1, 2, '你好', 3, 4)\n",
      "3\n"
     ]
    }
   ],
   "source": [
    "#元组的操作\n",
    "tup2 = (1,2,\"你好\")\n",
    "#元组没有删除和赋值操作，但可以拼接\n",
    "#元组的拼接\n",
    "tup3 = tup2+(3,4)\n",
    "print(tup3)\n",
    "#元组的查询，根据下标查询\n",
    "print(tup3[3])\n"
   ]
  },
  {
   "cell_type": "code",
   "execution_count": 47,
   "metadata": {},
   "outputs": [
    {
     "name": "stdout",
     "output_type": "stream",
     "text": [
      "老黄\n",
      "{'name': '老黄', 'age': 22}\n",
      "{'name': '老黄', 'age': 22, 'tag': 'tall'}\n",
      "{'name': '老黄', 'tag': 'tall'}\n"
     ]
    }
   ],
   "source": [
    "#字典的操作\n",
    "dict2 = {\"name\":\"老黄\",\"age\":21}\n",
    "\n",
    "#通过key获取对应的value\n",
    "print(dict2[\"name\"])\n",
    "\n",
    "#根据key修改\n",
    "dict2[\"age\"]=22\n",
    "print(dict2)\n",
    "\n",
    "#添加键值对\n",
    "dict2[\"tag\"]= \"tall\"\n",
    "print(dict2)\n",
    "\n",
    "#根据key删除\n",
    "del dict2[\"age\"]\n",
    "print(dict2)\n"
   ]
  },
  {
   "cell_type": "code",
   "execution_count": 49,
   "metadata": {},
   "outputs": [
    {
     "name": "stdout",
     "output_type": "stream",
     "text": [
      "YES\n",
      "YES\n"
     ]
    }
   ],
   "source": [
    "#if判断语句，有if else 和 if elif else两种\n",
    "#语法格式： if 条件语句 ： 执行语句\n",
    "if 1>0 : \n",
    "    print(\"YES\")\n",
    "else:\n",
    "    print(\"NO\")\n",
    "    \n",
    "    \n",
    "if 0>1:\n",
    "    print(\"NO\")\n",
    "elif 1>0:\n",
    "    print(\"YES\")\n",
    "else:\n",
    "    print(\"nothing\")\n"
   ]
  },
  {
   "cell_type": "code",
   "execution_count": 50,
   "metadata": {},
   "outputs": [
    {
     "name": "stdout",
     "output_type": "stream",
     "text": [
      "2\n",
      "4\n",
      "6\n",
      "8\n"
     ]
    }
   ],
   "source": [
    "#for循环语句\n",
    "#语法格式： for 变量 in 范围 ：执行语句\n",
    "list3 = range(1,10) #range也是左开右闭\n",
    "for i in list3:\n",
    "    if i%2==0:\n",
    "        print(i)\n",
    "    else:\n",
    "        continue"
   ]
  },
  {
   "cell_type": "code",
   "execution_count": null,
   "metadata": {},
   "outputs": [],
   "source": [
    "# break 和 continue\n",
    "#break是跳过整个循环 continue是跳过此次循环，进行下次循环\n",
    "for i in range(0,10):\n",
    "    if i == 5:\n",
    "        #break\n",
    "        continue\n",
    "    if i == 6:\n",
    "        pass\n",
    "    print(i)\n",
    "else:\n",
    "    print(\"完毕\")"
   ]
  },
  {
   "cell_type": "code",
   "execution_count": 15,
   "metadata": {},
   "outputs": [
    {
     "name": "stdout",
     "output_type": "stream",
     "text": [
      "3\n",
      "3\n",
      "7\n",
      "哈哈贝贝\n",
      "(10, 20, 30)\n",
      "{'sex': 'boy'}\n",
      "1 2 3\n",
      "1 2 3\n"
     ]
    }
   ],
   "source": [
    "#函数定义与传参\n",
    "#函数的定义： def 函数名： 函数体\n",
    "#函数的传参\n",
    "def sum1(num1,num2):\n",
    "    print(num1+num2)\n",
    "\n",
    "#1、直接传参\n",
    "def sum1(num1,num2):\n",
    "    print(num1+num2)\n",
    "sum1(1,2)\n",
    "\n",
    "#2、括号内改变传参顺序\n",
    "def sum1(num1,num2):\n",
    "    print(num1+num2)\n",
    "sum1(num2=2,num1=1)\n",
    "\n",
    "#3、改变默认参数值\n",
    "def sum1(num1=1,num2=2):\n",
    "    print(num1+num2)\n",
    "sum1(num1=3,num2=4)\n",
    "\n",
    "#4、不定长参数(一颗星*代表元组，两颗星**代表字典)\n",
    "def runn(name1=\"哈哈\",name2=\"佳佳\",*tuple1,**dict2):\n",
    "    print(name1+name2)\n",
    "    print(tuple1)\n",
    "    print(dict2)\n",
    "runn(\"哈哈\",\"贝贝\",10,20,30,sex=\"boy\")\n",
    "\n",
    "#5、函数的关键字传参,用*号来限制后面的参数必须用关键字传参\n",
    "def test(num1,num2,*,num3):\n",
    "    print(num1,num2,num3)\n",
    "test(1,2,num3=3)  #由于num3前有*号，所以其必须用关键字传参\n",
    "test(num1=1,num2=2,num3=3)  #由于num1和num2没有用*号限制，所以传参可以用关键字也可以不用\n"
   ]
  },
  {
   "cell_type": "code",
   "execution_count": null,
   "metadata": {},
   "outputs": [],
   "source": [
    "#解包\n",
    "#列表解包，*加上列表\n",
    "def list2(a,b,c,d):\n",
    "    print(a,b,c,d)\n",
    "list1=[1,2,3,4]    \n",
    "list2(*list1)   #这里解包的话，列表里面的元素个数与函数的形参个数一致\n",
    "\n",
    "#字典解包,**加上字典\n",
    "dict3 = {\"num1\":12,\"num2\":13,\"num3\":14}\n",
    "def dict4(num1,num2,num3):\n",
    "    print(num1,num2,num3)\n",
    "dict4(**dict3)   #这里解包的话，字典的key与函数的形参要一样"
   ]
  },
  {
   "cell_type": "code",
   "execution_count": null,
   "metadata": {
    "code_folding": []
   },
   "outputs": [],
   "source": [
    "#小项目——马家丁壳的剪刀石头布\n",
    "#作用域（要用到的变量）\n",
    "name = \"玩家\"\n",
    "hero_name = \"安琪拉\"\n",
    "per_win = 0;#玩家获胜局数\n",
    "com_win = 0;#电脑获胜局数\n",
    "pk_sum = 0;#总的获胜局数\n",
    "hero=0;\n",
    "#1、选择英雄\n",
    "#定义一个函数来让玩家输入自己的游戏昵称以及选择对战的英雄\n",
    "def selecthero():\n",
    "    print(\"===============================欢迎来到马家丁壳对战=================================\")\n",
    "    global hero,name,hero_name #声明全局变量\n",
    "    name = input(\"请您输入您的昵称:\")\n",
    "    hero = input(\"请您选择您的对战英雄:1、马保国 2、马云 3、马化腾\")\n",
    "    \n",
    "    if hero == \"1\":\n",
    "        hero_name=\"马保国\"\n",
    "        print(\"您选择的对战英雄是 马保国\")\n",
    "    elif hero == \"2\":\n",
    "        hero_name=\"马云\"\n",
    "        print(\"您选择的对战英雄是 马云\")\n",
    "    elif hero == \"3\":\n",
    "        hero_name=\"马化腾\"\n",
    "        print(\"您选择的对战英雄是 马化腾\")\n",
    "    else:\n",
    "        hero_name=\"老龚\"\n",
    "        print(\"恭喜你触发了隐藏boss—老龚\")\n",
    "        \n",
    "        \n",
    "        \n",
    "#2、pk\n",
    "#通过选择1、2、3来确定选的是石头、剪刀、布，再通过石头剪刀布来确定谁获胜，当总的pk局数大于4时，即结束游戏\n",
    "#要想pk一直进行下去，就先设置一个死循环，当pk局数大于4的时候就退出循环\n",
    "#pk前玩家选择123来确定石头剪刀布，电脑通过1-3的随机数来确定石头剪刀布，再通过石头剪刀布之间的关系来判断谁获胜\n",
    "#每次比赛前，比赛局数都加1，玩家获胜时，玩家获胜局数+1，电脑获胜时，电脑获胜局数+1\n",
    "#比赛局数、玩家获胜局数、电脑获胜局数都要声明时全局变量\n",
    "#要使用随机整数，就要引入随机数库\n",
    "\n",
    "#先定义函数来pk\n",
    "def per_com_PK():\n",
    "    #声明全局变量\n",
    "    global per_win,com_win,pk_sum\n",
    "    print(name,\"和\",hero_name,\"的比赛正式开始\")\n",
    "    #设置死循环来实现循环PK\n",
    "    while True:\n",
    "        pk_sum+=1  #每次pk开始时总局数加一\n",
    "        \n",
    "        #玩家选择石头剪刀布\n",
    "        per_key =int(input(\"请输入选项（1、石头，2、剪刀，3、布）：\"))  #input获取的是字符串，所以要将其转换成int整型\n",
    "        #显示玩家选择的结果\n",
    "        if per_key ==1:\n",
    "            print(\"您出了石头\")\n",
    "        elif per_key ==2:\n",
    "            print(\"您出了剪刀\")\n",
    "        else:\n",
    "            print(\"您出了布\")\n",
    "        \n",
    "        #电脑选择石头剪刀布，通过randint在1-3之间的随机数来确定\n",
    "        com_key = random.randint(1,3)\n",
    "        #显示电脑出的结果\n",
    "        if com_key ==1:\n",
    "            print(hero_name,\"出了石头\")\n",
    "        elif com_key ==2:\n",
    "            print(hero_name,\"出了剪刀\")\n",
    "        else:\n",
    "            print(hero_name,\"出了布\")\n",
    "        \n",
    "        #下面就是pk获胜，玩家获胜的情况：石头-剪刀 or 剪刀-布 or 布-石头\n",
    "        if per_key==1 and com_key ==2 or per_key==2 and com_key==3 or per_key==3 and com_key==1:\n",
    "            per_win+=1\n",
    "            print(name,\":就这？\")\n",
    "            if hero ==\"1\":\n",
    "                print(hero_name,\":年轻人耗子尾汁\")\n",
    "            elif hero ==\"2\":\n",
    "                print(hero_name,\":别得意，你花呗还了吗？\")\n",
    "            else:\n",
    "                print(hero_name,\":你的王者号没了\")\n",
    "        elif per_key == com_key :\n",
    "            print(\"平局\")\n",
    "        else:\n",
    "            com_win+=1\n",
    "            print(name,\":有本事再来\")\n",
    "            if hero ==\"1\":\n",
    "                print(hero_name,\":年轻人你不讲武德，终究还是得败给我\")\n",
    "            elif hero ==\"2\":\n",
    "                print(hero_name,\":年轻人，996是福报\")\n",
    "            else:\n",
    "                print(hero_name,\":新的王者皮肤出了哦，氪金吗\")\n",
    "        \n",
    "        #对局控制，跳出循环\n",
    "        if pk_sum>4:\n",
    "            print(\"对局结束\")\n",
    "            print(\"欢迎再来\")\n",
    "            break\n",
    "            \n",
    "#3、展示结果：总的比赛局数，玩家的获胜局数，电脑的获胜局数\n",
    "def showResult():\n",
    "    print(\"*\"*20)\n",
    "    print(\"*\"*20)\n",
    "    \n",
    "    #字符串格式化，来将数据和字符串结合在一起\n",
    "    print(\"比赛共进行了%d局\"%(pk_sum))\n",
    "    print(\"%s赢了%d局\"%(name,per_win))\n",
    "    print(\"%s赢了%d局\"%(hero_name,com_win))\n",
    "    \n",
    "    #比较玩家和电话获胜局数来确定赢家\n",
    "    if per_win>com_win:\n",
    "        print(name,\"你真棒\")\n",
    "    else:\n",
    "        print(hero_name,\":啊？就这呀？\")\n",
    "        \n",
    "#4、结束游戏或者继续游戏\n",
    "def exits():\n",
    "    ex_key = input(\"继续游戏的话，请按“n”；退出游戏的话，请按任意键\")\n",
    "    if ex_key ==\"n\":\n",
    "        print(\"拜拜了您内\")\n",
    "        print(\"*\"*20)\n",
    "        exit()\n",
    "    else:\n",
    "        \n",
    "        per_com_PK()\n",
    "        showResule()\n",
    "        exits()\n",
    "\n",
    "\n",
    "#调试\n",
    "import random\n",
    "selecthero()\n",
    "per_com_PK()\n",
    "showResule()\n",
    "exits()"
   ]
  },
  {
   "cell_type": "code",
   "execution_count": null,
   "metadata": {},
   "outputs": [],
   "source": []
  },
  {
   "cell_type": "code",
   "execution_count": null,
   "metadata": {},
   "outputs": [],
   "source": []
  }
 ],
 "metadata": {
  "kernelspec": {
   "display_name": "Python 3",
   "language": "python",
   "name": "python3"
  },
  "language_info": {
   "codemirror_mode": {
    "name": "ipython",
    "version": 3
   },
   "file_extension": ".py",
   "mimetype": "text/x-python",
   "name": "python",
   "nbconvert_exporter": "python",
   "pygments_lexer": "ipython3",
   "version": "3.6.5"
  },
  "toc": {
   "base_numbering": 1,
   "nav_menu": {},
   "number_sections": true,
   "sideBar": true,
   "skip_h1_title": false,
   "title_cell": "Table of Contents",
   "title_sidebar": "Contents",
   "toc_cell": false,
   "toc_position": {},
   "toc_section_display": true,
   "toc_window_display": false
  }
 },
 "nbformat": 4,
 "nbformat_minor": 4
}
