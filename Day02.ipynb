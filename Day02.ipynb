{
 "cells": [
  {
   "cell_type": "code",
   "execution_count": 10,
   "metadata": {},
   "outputs": [
    {
     "name": "stdout",
     "output_type": "stream",
     "text": [
      "开始 girl 177cm 可爱\n",
      "结束\n",
      "文档说明: 这是一个帅哥的模板\n",
      "引用属性: girl 177cm 可爱\n",
      "打篮球\n",
      "开始 丑孩 166cm 真是丑\n",
      "结束\n",
      "丑孩 166cm 真是丑 丑\n",
      "打篮球\n"
     ]
    }
   ],
   "source": [
    "#类的作用：\n",
    "#（1）、用于存储，一般用于定义模板\n",
    "#（2）、可以把任何事物抽象成一个拥有共同属性和行为的模板\n",
    "#（3）、可以用于基于模板的共同属性和行为快速创建一个新的事物\n",
    "\n",
    "#类的组成\n",
    "#class 类名称：\n",
    "     #类属性\n",
    "    #类的自定义函数\n",
    "    #类的内置函数\n",
    "\n",
    "#类的创建与类的继承\n",
    "class CoolBoy:\n",
    "    \"\"\"这是一个帅哥的模板\"\"\"  #类文档字符串，可以通过ClassName.__doc__来查看\n",
    "    #1.1属性\n",
    "    sex = \"boy\"\n",
    "    height = \"180cm\"\n",
    "    tag = \"帅\"\n",
    "    \n",
    "    #1.2自定义类函数\n",
    "    def basketball(self):  #self是缺省参数，即不用传参\n",
    "        print(\"打篮球\")\n",
    "    def singing(self):\n",
    "        print(\"唱\")\n",
    "    def dancing(self):\n",
    "        print(\"跳\")\n",
    "        \n",
    "    #1.3本身内置函数\n",
    "    def __init__(self,sex,height,tag):  #\n",
    "        print(\"开始\",sex,height,tag)\n",
    "        self.sex=sex\n",
    "        self.height=height\n",
    "        self.tag=tag\n",
    "        \n",
    "    def __del__(self):\n",
    "        print(\"结束\")\n",
    "        \n",
    "\n",
    "\n",
    "# 实例化     \n",
    "cb1 = CoolBoy(\"girl\",\"177cm\",\"可爱\")\n",
    "print(\"文档说明:\", cb1.__doc__)\n",
    "print(\"引用属性:\",cb1.sex,cb1.height,cb1.tag)\n",
    "\n",
    "#类里面的自定义函数引用\n",
    "cb1.basketball()\n",
    "\n",
    "#类的继承\n",
    "class Ugly(CoolBoy):\n",
    "    \"\"\"丑的模板\"\"\"\n",
    "    ugly = \"丑\"\n",
    "\n",
    "u = Ugly(\"丑孩\",\"166cm\",\"真是丑\") #子类继承了父类，同样父类的三个属性值也要继承\n",
    "print(u.sex,u.height,u.tag,u.ugly)\n",
    "u.basketball()"
   ]
  },
  {
   "cell_type": "code",
   "execution_count": null,
   "metadata": {},
   "outputs": [],
   "source": []
  }
 ],
 "metadata": {
  "kernelspec": {
   "display_name": "Python 3",
   "language": "python",
   "name": "python3"
  },
  "language_info": {
   "codemirror_mode": {
    "name": "ipython",
    "version": 3
   },
   "file_extension": ".py",
   "mimetype": "text/x-python",
   "name": "python",
   "nbconvert_exporter": "python",
   "pygments_lexer": "ipython3",
   "version": "3.6.5"
  },
  "toc": {
   "base_numbering": 1,
   "nav_menu": {},
   "number_sections": true,
   "sideBar": true,
   "skip_h1_title": false,
   "title_cell": "Table of Contents",
   "title_sidebar": "Contents",
   "toc_cell": false,
   "toc_position": {},
   "toc_section_display": true,
   "toc_window_display": false
  }
 },
 "nbformat": 4,
 "nbformat_minor": 4
}
